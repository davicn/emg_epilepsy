{
 "cells": [
  {
   "cell_type": "code",
   "execution_count": 1,
   "metadata": {},
   "outputs": [
    {
     "name": "stderr",
     "output_type": "stream",
     "text": [
      "Using Spark's default log4j profile: org/apache/spark/log4j-defaults.properties\n",
      "Setting default log level to \"WARN\".\n",
      "To adjust logging level use sc.setLogLevel(newLevel). For SparkR, use setLogLevel(newLevel).\n",
      "23/02/11 09:28:47 WARN NativeCodeLoader: Unable to load native-hadoop library for your platform... using builtin-java classes where applicable\n"
     ]
    }
   ],
   "source": [
    "from pyspark.sql import SparkSession\n",
    "\n",
    "number_cores = 6\n",
    "memory_gb = 10\n",
    "name_app = 'pib'\n",
    "\n",
    "spark = (SparkSession.builder.appName(name_app) \n",
    "    .config('spark.driver.memory', f'{memory_gb}g')\n",
    "    .config('spark.master', f'local[{number_cores}]')\n",
    "    ).getOrCreate()\n"
   ]
  },
  {
   "cell_type": "code",
   "execution_count": 2,
   "metadata": {},
   "outputs": [],
   "source": [
    "from os import walk\n",
    "\n",
    "path_root = '/media/davi/6A81-05CF/DATALAKES/emg_dataset/' \n",
    "folder = 'parquet'\n",
    "\n",
    "f = []\n",
    "for (dirpath, dirnames, filenames) in walk(path_root + folder):\n",
    "    f.extend(dirnames)\n",
    "    break"
   ]
  },
  {
   "cell_type": "code",
   "execution_count": 17,
   "metadata": {},
   "outputs": [],
   "source": [
    "def load_data(file:str) -> any:\n",
    "    df = (spark.read.format('parquet').load(f\"{path_root}{folder}/{file}\"))\n",
    "    df.cache()\n",
    "\n",
    "    return df\n",
    "\n",
    "def sep_cols(df:any) -> list:\n",
    "    eeg_cols = list(filter(lambda col: 'EEG' in col, df.columns ))\n",
    "    ecg_cols = list(filter(lambda col: 'ECG' in col, df.columns ))\n",
    "    emg_cols = list(filter(lambda col: 'EMG' in col, df.columns ))\n",
    "\n",
    "    return [eeg_cols, ecg_cols, emg_cols]\n",
    "\n",
    "\n",
    "def main(file:str) -> None:\n",
    "\n",
    "    df = load_data(file)\n",
    "\n",
    "    cols = sep_cols(df)\n",
    "\n",
    "    sub_folders = ['eeg','ecg','emg']\n",
    "\n",
    "    for col,folder in zip(cols, sub_folders):\n",
    "        try:\n",
    "            (df.select('time','window',*col)\n",
    "                .write.format('parquet')\n",
    "                .partitionBy('window')\n",
    "                .mode('overwrite')\n",
    "                .save(f\"{path_root}{folder}/{file}/\" ))\n",
    "        except Exception as e:\n",
    "            print(e)\n"
   ]
  },
  {
   "cell_type": "code",
   "execution_count": 19,
   "metadata": {},
   "outputs": [
    {
     "name": "stderr",
     "output_type": "stream",
     "text": [
      "23/02/11 09:54:59 WARN CacheManager: Asked to cache already cached data.        \n",
      "                                                                                \r"
     ]
    }
   ],
   "source": [
    "for file in f:\n",
    "    main(file)"
   ]
  },
  {
   "cell_type": "code",
   "execution_count": 20,
   "metadata": {},
   "outputs": [],
   "source": [
    "spark.stop()"
   ]
  }
 ],
 "metadata": {
  "kernelspec": {
   "display_name": "Python 3",
   "language": "python",
   "name": "python3"
  },
  "language_info": {
   "codemirror_mode": {
    "name": "ipython",
    "version": 3
   },
   "file_extension": ".py",
   "mimetype": "text/x-python",
   "name": "python",
   "nbconvert_exporter": "python",
   "pygments_lexer": "ipython3",
   "version": "3.10.6"
  },
  "orig_nbformat": 4,
  "vscode": {
   "interpreter": {
    "hash": "916dbcbb3f70747c44a77c7bcd40155683ae19c65e1c03b4aa3499c5328201f1"
   }
  }
 },
 "nbformat": 4,
 "nbformat_minor": 2
}
