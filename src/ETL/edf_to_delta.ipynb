{
 "cells": [
  {
   "cell_type": "code",
   "execution_count": 3,
   "metadata": {},
   "outputs": [],
   "source": [
    "from os import walk\n",
    "import mne \n",
    "# from deltalake.writer import write_deltalake"
   ]
  },
  {
   "cell_type": "code",
   "execution_count": 47,
   "metadata": {},
   "outputs": [],
   "source": [
    "path_root = '/mnt/g/DATALAKES/emg_dataset/' \n",
    "folder = 'raw'\n",
    "\n",
    "f = []\n",
    "for (dirpath, dirnames, filenames) in walk(path_root + folder):\n",
    "    f.extend(filenames)\n",
    "    break\n",
    "\n",
    "\n",
    "files = [i for i in f if '.edf' in i]"
   ]
  },
  {
   "cell_type": "code",
   "execution_count": 48,
   "metadata": {},
   "outputs": [],
   "source": [
    "def read_edf(input_fname:str) -> any:\n",
    "    return mne.io.read_raw_edf(\n",
    "                input_fname=input_fname, \n",
    "                encoding='utf8', \n",
    "                verbose=False)\n",
    "                \n",
    "\n",
    "def create_windows(raw:any) -> any:\n",
    "    d = raw.to_data_frame()\n",
    "    d ['window'] = d['time'].astype(int) + 1\n",
    "    d.columns = [col.replace(' ','_').replace('-','_') for col in d.columns]\n",
    "    return d\n",
    "\n",
    "\n",
    "def save_parquet(df:any, file:str) -> None:\n",
    "    df.to_parquet(\n",
    "        path=file.replace('raw','parquet') .replace('.edf',''),\n",
    "        engine='pyarrow', \n",
    "        compression='snappy', \n",
    "        index=None, \n",
    "        partition_cols=['window'])\n",
    "\n",
    "\n",
    "def main(file):\n",
    "    raw = read_edf(file)\n",
    "    df = create_windows(raw)\n",
    "    save_parquet(df, file)"
   ]
  },
  {
   "cell_type": "code",
   "execution_count": 49,
   "metadata": {},
   "outputs": [
    {
     "name": "stderr",
     "output_type": "stream",
     "text": [
      "/tmp/ipykernel_29968/3668877040.py:2: RuntimeWarning: Limited 1 annotation(s) that were expanding outside the data range.\n",
      "  return mne.io.read_raw_edf(\n"
     ]
    }
   ],
   "source": [
    "for ff in files:\n",
    "    file = f\"{path_root}{folder}/{ff}\" \n",
    "    main(file)\n"
   ]
  },
  {
   "cell_type": "code",
   "execution_count": 50,
   "metadata": {},
   "outputs": [
    {
     "data": {
      "text/plain": [
       "'/mnt/g/DATALAKES/emg_dataset/raw/P42.edf'"
      ]
     },
     "execution_count": 50,
     "metadata": {},
     "output_type": "execute_result"
    }
   ],
   "source": [
    "f\"{path_root}{folder}/{ff}\" "
   ]
  }
 ],
 "metadata": {
  "kernelspec": {
   "display_name": "Python 3",
   "language": "python",
   "name": "python3"
  },
  "language_info": {
   "codemirror_mode": {
    "name": "ipython",
    "version": 3
   },
   "file_extension": ".py",
   "mimetype": "text/x-python",
   "name": "python",
   "nbconvert_exporter": "python",
   "pygments_lexer": "ipython3",
   "version": "3.10.12"
  },
  "orig_nbformat": 4,
  "vscode": {
   "interpreter": {
    "hash": "916dbcbb3f70747c44a77c7bcd40155683ae19c65e1c03b4aa3499c5328201f1"
   }
  }
 },
 "nbformat": 4,
 "nbformat_minor": 2
}
